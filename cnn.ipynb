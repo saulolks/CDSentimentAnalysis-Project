{
  "nbformat": 4,
  "nbformat_minor": 0,
  "metadata": {
    "colab": {
      "name": "cnn.ipynb",
      "version": "0.3.2",
      "provenance": [],
      "collapsed_sections": [],
      "include_colab_link": true
    },
    "kernelspec": {
      "name": "python3",
      "display_name": "Python 3"
    },
    "accelerator": "GPU"
  },
  "cells": [
    {
      "cell_type": "markdown",
      "metadata": {
        "id": "view-in-github",
        "colab_type": "text"
      },
      "source": [
        "<a href=\"https://colab.research.google.com/github/saulolks/CDSentimentAnalysis-Project/blob/master/cnn.ipynb\" target=\"_parent\"><img src=\"https://colab.research.google.com/assets/colab-badge.svg\" alt=\"Open In Colab\"/></a>"
      ]
    },
    {
      "metadata": {
        "id": "uE99A6Sn2nMJ",
        "colab_type": "code",
        "outputId": "b926073b-d369-43dd-ae95-40fc6d6c450c",
        "colab": {
          "base_uri": "https://localhost:8080/",
          "height": 122
        }
      },
      "cell_type": "code",
      "source": [
        "# Load the Drive helper and mount\n",
        "from google.colab import drive\n",
        "\n",
        "# This will prompt for authorization.\n",
        "drive.mount('/content/drive/')"
      ],
      "execution_count": 1,
      "outputs": [
        {
          "output_type": "stream",
          "text": [
            "Go to this URL in a browser: https://accounts.google.com/o/oauth2/auth?client_id=947318989803-6bn6qk8qdgf4n4g3pfee6491hc0brc4i.apps.googleusercontent.com&redirect_uri=urn%3Aietf%3Awg%3Aoauth%3A2.0%3Aoob&scope=email%20https%3A%2F%2Fwww.googleapis.com%2Fauth%2Fdocs.test%20https%3A%2F%2Fwww.googleapis.com%2Fauth%2Fdrive%20https%3A%2F%2Fwww.googleapis.com%2Fauth%2Fdrive.photos.readonly%20https%3A%2F%2Fwww.googleapis.com%2Fauth%2Fpeopleapi.readonly&response_type=code\n",
            "\n",
            "Enter your authorization code:\n",
            "··········\n",
            "Mounted at /content/drive/\n"
          ],
          "name": "stdout"
        }
      ]
    },
    {
      "metadata": {
        "id": "GEMnmsPe2nl_",
        "colab_type": "text"
      },
      "cell_type": "markdown",
      "source": [
        "\n",
        "\n",
        "---\n",
        "\n"
      ]
    },
    {
      "metadata": {
        "id": "6Rhy2wrb7Fe3",
        "colab_type": "code",
        "colab": {}
      },
      "cell_type": "code",
      "source": [
        "import numpy as np\n",
        "import matplotlib.pyplot as plt\n",
        "import pandas as pd\n",
        "\n",
        "from keras.layers import Dense, Input, Flatten, Reshape, concatenate, Dropout\n",
        "from keras.layers import Conv1D, Conv2D, MaxPooling1D, MaxPooling2D, Embedding\n",
        "from keras.layers import LSTM, Bidirectional\n",
        "from keras.models import Model, Sequential\n",
        "from keras.callbacks import ModelCheckpoint\n",
        "from keras.backend import reshape\n",
        "from keras import optimizers\n",
        "from keras import regularizers\n",
        "\n",
        "from sklearn.model_selection import KFold"
      ],
      "execution_count": 0,
      "outputs": []
    },
    {
      "metadata": {
        "id": "-cLBfgkjDYsX",
        "colab_type": "text"
      },
      "cell_type": "markdown",
      "source": [
        "## Modelo Yoon Kim"
      ]
    },
    {
      "metadata": {
        "id": "P-Gk_f1NwDf7",
        "colab_type": "text"
      },
      "cell_type": "markdown",
      "source": [
        "Modelo original de **Yoon Kim** [Convolutional Neural Networks for Sentence Classification](https://arxiv.org/abs/1408.5882)\n",
        "\n",
        "Implementação [Jverma/cnn-text-classification-keras\n",
        "](https://github.com/Jverma/cnn-text-classification-keras)"
      ]
    },
    {
      "metadata": {
        "id": "YNWh9i9cw6Ia",
        "colab_type": "text"
      },
      "cell_type": "markdown",
      "source": [
        "*   **EMBEDDING_DIM**: Dimension of the embedding space.\n",
        "*   **MAX_SEQUENCE_LENGTH:** Maximum length of the sentence.\n",
        "*   **MAX_NB_WORDS:** Maximum number of words in the vocabulary.\n",
        "*   **embeddings_index:** A dict containing words and their embeddings.\n",
        "*   **word_index:** A dict containing words and their indices.\n",
        "*   **labels_index**: A dict containing the labels and their indices.\n",
        "*   **fname**: Path to the file containing Google word2vecs."
      ]
    },
    {
      "metadata": {
        "id": "Yom2jf-MW3MN",
        "colab_type": "code",
        "colab": {}
      },
      "cell_type": "code",
      "source": [
        "datafolder = 'drive/My Drive/Colab Notebooks/MT/imdb_dataSet_k.csv'"
      ],
      "execution_count": 0,
      "outputs": []
    },
    {
      "metadata": {
        "id": "H14IvPE4t23i",
        "colab_type": "code",
        "colab": {}
      },
      "cell_type": "code",
      "source": [
        "MAX_SEQUENCE_LENGTH = 6118\n",
        "MAX_NB_WORDS = 10000\n",
        "EMBEDDING_DIM = 300\n",
        "VALIDATION_SPLIT = 0.2\n",
        "fname = 'drive/My Drive/UFRPE/'"
      ],
      "execution_count": 0,
      "outputs": []
    },
    {
      "metadata": {
        "id": "KLOf9XUeZOms",
        "colab_type": "text"
      },
      "cell_type": "markdown",
      "source": [
        "### Funções"
      ]
    },
    {
      "metadata": {
        "id": "tDNZ9-3KYiyN",
        "colab_type": "code",
        "colab": {}
      },
      "cell_type": "code",
      "source": [
        "def prepareDataSet(datapath):\n",
        "    #Shuffle\n",
        "    data = pd.read_csv(datapath) \n",
        "    data = data.sample(frac=1)\n",
        "    return data"
      ],
      "execution_count": 0,
      "outputs": []
    },
    {
      "metadata": {
        "id": "3WFIbE4gYjxK",
        "colab_type": "code",
        "colab": {}
      },
      "cell_type": "code",
      "source": [
        "data = prepareDataSet(datafolder)"
      ],
      "execution_count": 0,
      "outputs": []
    },
    {
      "metadata": {
        "id": "nwWGmmmLaugs",
        "colab_type": "code",
        "colab": {}
      },
      "cell_type": "code",
      "source": [
        "num_words = len(data.columns)-2"
      ],
      "execution_count": 0,
      "outputs": []
    },
    {
      "metadata": {
        "id": "-VvQBNnRcW2K",
        "colab_type": "code",
        "colab": {}
      },
      "cell_type": "code",
      "source": [
        "X = data.iloc[:,2:len(data.columns)-1]\n",
        "Y = data[\"class\"]"
      ],
      "execution_count": 0,
      "outputs": []
    },
    {
      "metadata": {
        "id": "MmgKQoQQKHVF",
        "colab_type": "text"
      },
      "cell_type": "markdown",
      "source": [
        "### Modelo teste"
      ]
    },
    {
      "metadata": {
        "id": "Sc9JOcskJgS2",
        "colab_type": "code",
        "colab": {}
      },
      "cell_type": "code",
      "source": [
        "def create_conv_model(vocabulary_size):\n",
        "    model_conv = Sequential()\n",
        "    model_conv.add(Embedding(vocabulary_size, 100, input_length=None))\n",
        "    model_conv.add(Dropout(0.2))\n",
        "    model_conv.add(Conv1D(64, 5, activation='relu'))\n",
        "    model_conv.add(MaxPooling1D(pool_size=4))\n",
        "    model_conv.add(LSTM(100))\n",
        "    model_conv.add(Dense(1, activation='sigmoid'))\n",
        "    model_conv.compile(loss='binary_crossentropy', optimizer='adam',    metrics=['accuracy'])\n",
        "    \n",
        "    return model_conv"
      ],
      "execution_count": 0,
      "outputs": []
    },
    {
      "metadata": {
        "id": "LJzlaCL5Jh5N",
        "colab_type": "code",
        "colab": {}
      },
      "cell_type": "code",
      "source": [
        "model_conv = create_conv_model(num_words)"
      ],
      "execution_count": 0,
      "outputs": []
    },
    {
      "metadata": {
        "id": "_lPPv9ajJyCO",
        "colab_type": "code",
        "colab": {
          "base_uri": "https://localhost:8080/",
          "height": 119
        },
        "outputId": "dea29010-434b-4432-d333-94ce954c4d18"
      },
      "cell_type": "code",
      "source": [
        "kf = KFold(n_splits=10, shuffle=False)\n",
        "for train_index, test_index in kf.split(X):\n",
        "    x_train, x_test = X.iloc[train_index], X.iloc[test_index]\n",
        "    y_train, y_test = Y.iloc[train_index], Y.iloc[test_index]\n",
        "    \n",
        "    model_conv.fit(x=x_train, y=y_train, batch_size=50, validation_split=0.2,\n",
        "                   epochs = 3)\n",
        "    break"
      ],
      "execution_count": 71,
      "outputs": [
        {
          "output_type": "stream",
          "text": [
            "Epoch 1/3\n",
            "990/990 [==============================] - 71s 72ms/step - loss: 0.6946 - acc: 0.4980\n",
            "Epoch 2/3\n",
            "990/990 [==============================] - 70s 70ms/step - loss: 0.6931 - acc: 0.5101\n",
            "Epoch 3/3\n",
            "990/990 [==============================] - 70s 71ms/step - loss: 0.6936 - acc: 0.5020\n"
          ],
          "name": "stdout"
        }
      ]
    },
    {
      "metadata": {
        "id": "8CzHu1oZ9qUd",
        "colab_type": "text"
      },
      "cell_type": "markdown",
      "source": [
        "### Modelo"
      ]
    },
    {
      "metadata": {
        "id": "cJoZiCC9DaSH",
        "colab_type": "code",
        "colab": {}
      },
      "cell_type": "code",
      "source": [
        "embedding_layer = Embedding(num_words, EMBEDDING_DIM)"
      ],
      "execution_count": 0,
      "outputs": []
    },
    {
      "metadata": {
        "id": "C5zBJHBm7Z2v",
        "colab_type": "code",
        "colab": {}
      },
      "cell_type": "code",
      "source": [
        "sequence_input = Input(shape=(MAX_SEQUENCE_LENGTH,), dtype='int32')\n",
        "embedded_sequences = embedding_layer(sequence_input)\n",
        "\n",
        "# add first conv filter\n",
        "embedded_sequences = Reshape((MAX_SEQUENCE_LENGTH, EMBEDDING_DIM, 1))(embedded_sequences)\n",
        "x = Conv2D(100, (5, EMBEDDING_DIM), activation='relu')(embedded_sequences)\n",
        "x = MaxPooling2D((MAX_SEQUENCE_LENGTH - 5 + 1, 1))(x)\n",
        "\n",
        "\n",
        "# add second conv filter.\n",
        "y = Conv2D(100, (4, EMBEDDING_DIM), activation='relu')(embedded_sequences)\n",
        "y = MaxPooling2D((MAX_SEQUENCE_LENGTH - 4 + 1, 1))(y)\n",
        "\n",
        "\n",
        "# add third conv filter.\n",
        "z = Conv2D(100, (3, EMBEDDING_DIM), activation='relu')(embedded_sequences)\n",
        "z = MaxPooling2D((MAX_SEQUENCE_LENGTH - 3 + 1, 1))(z)\n",
        "\n",
        "\n",
        "# concate the conv layers\n",
        "alpha = concatenate([x,y,z])\n",
        "\n",
        "# flatted the pooled features.\n",
        "alpha = Flatten()(alpha)\n",
        "\n",
        "# dropout\n",
        "alpha = Dropout(0.5)(alpha)\n",
        "\n",
        "# predictions\n",
        "preds = Dense(1, activation='softmax')(alpha)\n",
        "\n",
        "# build model\n",
        "model = Model(sequence_input, preds)"
      ],
      "execution_count": 0,
      "outputs": []
    },
    {
      "metadata": {
        "id": "Uvvz4XcL7e_P",
        "colab_type": "code",
        "colab": {}
      },
      "cell_type": "code",
      "source": [
        "adadelta = optimizers.Adadelta()\n",
        "adam = optimizers.Adam(lr=0.1, beta_1=0.9, beta_2=0.999, epsilon=None, \n",
        "                       decay=0.0, amsgrad=False)\n",
        "\n",
        "model.compile(loss='binary_crossentropy',\n",
        "              optimizer=adam,\n",
        "              metrics=['acc'])"
      ],
      "execution_count": 0,
      "outputs": []
    },
    {
      "metadata": {
        "id": "cTAfHAdO9W33",
        "colab_type": "code",
        "colab": {
          "base_uri": "https://localhost:8080/",
          "height": 612
        },
        "outputId": "07571d2e-6f9e-409c-a145-74e47e1c8045"
      },
      "cell_type": "code",
      "source": [
        "model.summary()"
      ],
      "execution_count": 79,
      "outputs": [
        {
          "output_type": "stream",
          "text": [
            "__________________________________________________________________________________________________\n",
            "Layer (type)                    Output Shape         Param #     Connected to                     \n",
            "==================================================================================================\n",
            "input_8 (InputLayer)            (None, 6118)         0                                            \n",
            "__________________________________________________________________________________________________\n",
            "embedding_6 (Embedding)         (None, 6118, 300)    1835700     input_8[0][0]                    \n",
            "__________________________________________________________________________________________________\n",
            "reshape_8 (Reshape)             (None, 6118, 300, 1) 0           embedding_6[5][0]                \n",
            "__________________________________________________________________________________________________\n",
            "conv2d_22 (Conv2D)              (None, 6114, 1, 100) 150100      reshape_8[0][0]                  \n",
            "__________________________________________________________________________________________________\n",
            "conv2d_23 (Conv2D)              (None, 6115, 1, 100) 120100      reshape_8[0][0]                  \n",
            "__________________________________________________________________________________________________\n",
            "conv2d_24 (Conv2D)              (None, 6116, 1, 100) 90100       reshape_8[0][0]                  \n",
            "__________________________________________________________________________________________________\n",
            "max_pooling2d_22 (MaxPooling2D) (None, 1, 1, 100)    0           conv2d_22[0][0]                  \n",
            "__________________________________________________________________________________________________\n",
            "max_pooling2d_23 (MaxPooling2D) (None, 1, 1, 100)    0           conv2d_23[0][0]                  \n",
            "__________________________________________________________________________________________________\n",
            "max_pooling2d_24 (MaxPooling2D) (None, 1, 1, 100)    0           conv2d_24[0][0]                  \n",
            "__________________________________________________________________________________________________\n",
            "concatenate_8 (Concatenate)     (None, 1, 1, 300)    0           max_pooling2d_22[0][0]           \n",
            "                                                                 max_pooling2d_23[0][0]           \n",
            "                                                                 max_pooling2d_24[0][0]           \n",
            "__________________________________________________________________________________________________\n",
            "flatten_8 (Flatten)             (None, 300)          0           concatenate_8[0][0]              \n",
            "__________________________________________________________________________________________________\n",
            "dropout_11 (Dropout)            (None, 300)          0           flatten_8[0][0]                  \n",
            "__________________________________________________________________________________________________\n",
            "dense_11 (Dense)                (None, 1)            301         dropout_11[0][0]                 \n",
            "==================================================================================================\n",
            "Total params: 2,196,301\n",
            "Trainable params: 2,196,301\n",
            "Non-trainable params: 0\n",
            "__________________________________________________________________________________________________\n"
          ],
          "name": "stdout"
        }
      ]
    },
    {
      "metadata": {
        "id": "VTYJryj-9jhG",
        "colab_type": "text"
      },
      "cell_type": "markdown",
      "source": [
        "### Treinamento"
      ]
    },
    {
      "metadata": {
        "id": "u3sMSvl9fxdr",
        "colab_type": "code",
        "outputId": "cfcb6f20-a6ff-41f2-ac60-b955703621bd",
        "colab": {
          "base_uri": "https://localhost:8080/",
          "height": 1033
        }
      },
      "cell_type": "code",
      "source": [
        "kf = KFold(n_splits=3, shuffle=False)\n",
        "cont = 1\n",
        "training_total = []\n",
        "\n",
        "for train_index, test_index in kf.split(X):\n",
        "    x_train, x_test = X.iloc[train_index], X.iloc[test_index]\n",
        "    y_train, y_test = Y.iloc[train_index], Y.iloc[test_index]\n",
        "   \n",
        "    checkpointer = ModelCheckpoint(filepath='drive/My Drive/Colab Notebooks/MT/'\n",
        "                                   'weights_k' + str(cont) + '.hdf5', \n",
        "                                   verbose=1, save_best_only=True)\n",
        "    \n",
        "    cont += 1\n",
        "    \n",
        "    training = model.fit(x=x_train, y=y_train, batch_size=50, \n",
        "                         validation_split=0.2, callbacks=[checkpointer], \n",
        "                         epochs=30)\n",
        "    training_total.append(training)\n",
        "    \n",
        "    print('===================================================================='\n",
        "          '==================================================================')"
      ],
      "execution_count": 81,
      "outputs": [
        {
          "output_type": "stream",
          "text": [
            "Train on 586 samples, validate on 147 samples\n",
            "Epoch 1/30\n",
            "586/586 [==============================] - 23s 39ms/step - loss: 8.1344 - acc: 0.4898 - val_loss: 8.1339 - val_acc: 0.4898\n",
            "\n",
            "Epoch 00001: val_loss improved from inf to 8.13387, saving model to drive/My Drive/Colab Notebooks/MT/weights_k1.hdf5\n",
            "Epoch 2/30\n",
            "586/586 [==============================] - 21s 37ms/step - loss: 8.1344 - acc: 0.4898 - val_loss: 8.1339 - val_acc: 0.4898\n",
            "\n",
            "Epoch 00002: val_loss did not improve from 8.13387\n",
            "Epoch 3/30\n",
            "150/586 [======>.......................] - ETA: 15s - loss: 8.0775 - acc: 0.4933"
          ],
          "name": "stdout"
        },
        {
          "output_type": "error",
          "ename": "KeyboardInterrupt",
          "evalue": "ignored",
          "traceback": [
            "\u001b[0;31m---------------------------------------------------------------------------\u001b[0m",
            "\u001b[0;31mKeyboardInterrupt\u001b[0m                         Traceback (most recent call last)",
            "\u001b[0;32m<ipython-input-81-51a9f66ee07c>\u001b[0m in \u001b[0;36m<module>\u001b[0;34m()\u001b[0m\n\u001b[1;32m     15\u001b[0m     training = model.fit(x=x_train, y=y_train, batch_size=50, \n\u001b[1;32m     16\u001b[0m                          \u001b[0mvalidation_split\u001b[0m\u001b[0;34m=\u001b[0m\u001b[0;36m0.2\u001b[0m\u001b[0;34m,\u001b[0m \u001b[0mcallbacks\u001b[0m\u001b[0;34m=\u001b[0m\u001b[0;34m[\u001b[0m\u001b[0mcheckpointer\u001b[0m\u001b[0;34m]\u001b[0m\u001b[0;34m,\u001b[0m\u001b[0;34m\u001b[0m\u001b[0;34m\u001b[0m\u001b[0m\n\u001b[0;32m---> 17\u001b[0;31m                          epochs=30)\n\u001b[0m\u001b[1;32m     18\u001b[0m     \u001b[0mtraining_total\u001b[0m\u001b[0;34m.\u001b[0m\u001b[0mappend\u001b[0m\u001b[0;34m(\u001b[0m\u001b[0mtraining\u001b[0m\u001b[0;34m)\u001b[0m\u001b[0;34m\u001b[0m\u001b[0;34m\u001b[0m\u001b[0m\n\u001b[1;32m     19\u001b[0m \u001b[0;34m\u001b[0m\u001b[0m\n",
            "\u001b[0;32m/usr/local/lib/python3.6/dist-packages/keras/engine/training.py\u001b[0m in \u001b[0;36mfit\u001b[0;34m(self, x, y, batch_size, epochs, verbose, callbacks, validation_split, validation_data, shuffle, class_weight, sample_weight, initial_epoch, steps_per_epoch, validation_steps, **kwargs)\u001b[0m\n\u001b[1;32m   1037\u001b[0m                                         \u001b[0minitial_epoch\u001b[0m\u001b[0;34m=\u001b[0m\u001b[0minitial_epoch\u001b[0m\u001b[0;34m,\u001b[0m\u001b[0;34m\u001b[0m\u001b[0;34m\u001b[0m\u001b[0m\n\u001b[1;32m   1038\u001b[0m                                         \u001b[0msteps_per_epoch\u001b[0m\u001b[0;34m=\u001b[0m\u001b[0msteps_per_epoch\u001b[0m\u001b[0;34m,\u001b[0m\u001b[0;34m\u001b[0m\u001b[0;34m\u001b[0m\u001b[0m\n\u001b[0;32m-> 1039\u001b[0;31m                                         validation_steps=validation_steps)\n\u001b[0m\u001b[1;32m   1040\u001b[0m \u001b[0;34m\u001b[0m\u001b[0m\n\u001b[1;32m   1041\u001b[0m     def evaluate(self, x=None, y=None,\n",
            "\u001b[0;32m/usr/local/lib/python3.6/dist-packages/keras/engine/training_arrays.py\u001b[0m in \u001b[0;36mfit_loop\u001b[0;34m(model, f, ins, out_labels, batch_size, epochs, verbose, callbacks, val_f, val_ins, shuffle, callback_metrics, initial_epoch, steps_per_epoch, validation_steps)\u001b[0m\n\u001b[1;32m    197\u001b[0m                     \u001b[0mins_batch\u001b[0m\u001b[0;34m[\u001b[0m\u001b[0mi\u001b[0m\u001b[0;34m]\u001b[0m \u001b[0;34m=\u001b[0m \u001b[0mins_batch\u001b[0m\u001b[0;34m[\u001b[0m\u001b[0mi\u001b[0m\u001b[0;34m]\u001b[0m\u001b[0;34m.\u001b[0m\u001b[0mtoarray\u001b[0m\u001b[0;34m(\u001b[0m\u001b[0;34m)\u001b[0m\u001b[0;34m\u001b[0m\u001b[0;34m\u001b[0m\u001b[0m\n\u001b[1;32m    198\u001b[0m \u001b[0;34m\u001b[0m\u001b[0m\n\u001b[0;32m--> 199\u001b[0;31m                 \u001b[0mouts\u001b[0m \u001b[0;34m=\u001b[0m \u001b[0mf\u001b[0m\u001b[0;34m(\u001b[0m\u001b[0mins_batch\u001b[0m\u001b[0;34m)\u001b[0m\u001b[0;34m\u001b[0m\u001b[0;34m\u001b[0m\u001b[0m\n\u001b[0m\u001b[1;32m    200\u001b[0m                 \u001b[0mouts\u001b[0m \u001b[0;34m=\u001b[0m \u001b[0mto_list\u001b[0m\u001b[0;34m(\u001b[0m\u001b[0mouts\u001b[0m\u001b[0;34m)\u001b[0m\u001b[0;34m\u001b[0m\u001b[0;34m\u001b[0m\u001b[0m\n\u001b[1;32m    201\u001b[0m                 \u001b[0;32mfor\u001b[0m \u001b[0ml\u001b[0m\u001b[0;34m,\u001b[0m \u001b[0mo\u001b[0m \u001b[0;32min\u001b[0m \u001b[0mzip\u001b[0m\u001b[0;34m(\u001b[0m\u001b[0mout_labels\u001b[0m\u001b[0;34m,\u001b[0m \u001b[0mouts\u001b[0m\u001b[0;34m)\u001b[0m\u001b[0;34m:\u001b[0m\u001b[0;34m\u001b[0m\u001b[0;34m\u001b[0m\u001b[0m\n",
            "\u001b[0;32m/usr/local/lib/python3.6/dist-packages/keras/backend/tensorflow_backend.py\u001b[0m in \u001b[0;36m__call__\u001b[0;34m(self, inputs)\u001b[0m\n\u001b[1;32m   2713\u001b[0m                 \u001b[0;32mreturn\u001b[0m \u001b[0mself\u001b[0m\u001b[0;34m.\u001b[0m\u001b[0m_legacy_call\u001b[0m\u001b[0;34m(\u001b[0m\u001b[0minputs\u001b[0m\u001b[0;34m)\u001b[0m\u001b[0;34m\u001b[0m\u001b[0;34m\u001b[0m\u001b[0m\n\u001b[1;32m   2714\u001b[0m \u001b[0;34m\u001b[0m\u001b[0m\n\u001b[0;32m-> 2715\u001b[0;31m             \u001b[0;32mreturn\u001b[0m \u001b[0mself\u001b[0m\u001b[0;34m.\u001b[0m\u001b[0m_call\u001b[0m\u001b[0;34m(\u001b[0m\u001b[0minputs\u001b[0m\u001b[0;34m)\u001b[0m\u001b[0;34m\u001b[0m\u001b[0;34m\u001b[0m\u001b[0m\n\u001b[0m\u001b[1;32m   2716\u001b[0m         \u001b[0;32melse\u001b[0m\u001b[0;34m:\u001b[0m\u001b[0;34m\u001b[0m\u001b[0;34m\u001b[0m\u001b[0m\n\u001b[1;32m   2717\u001b[0m             \u001b[0;32mif\u001b[0m \u001b[0mpy_any\u001b[0m\u001b[0;34m(\u001b[0m\u001b[0mis_tensor\u001b[0m\u001b[0;34m(\u001b[0m\u001b[0mx\u001b[0m\u001b[0;34m)\u001b[0m \u001b[0;32mfor\u001b[0m \u001b[0mx\u001b[0m \u001b[0;32min\u001b[0m \u001b[0minputs\u001b[0m\u001b[0;34m)\u001b[0m\u001b[0;34m:\u001b[0m\u001b[0;34m\u001b[0m\u001b[0;34m\u001b[0m\u001b[0m\n",
            "\u001b[0;32m/usr/local/lib/python3.6/dist-packages/keras/backend/tensorflow_backend.py\u001b[0m in \u001b[0;36m_call\u001b[0;34m(self, inputs)\u001b[0m\n\u001b[1;32m   2673\u001b[0m             \u001b[0mfetched\u001b[0m \u001b[0;34m=\u001b[0m \u001b[0mself\u001b[0m\u001b[0;34m.\u001b[0m\u001b[0m_callable_fn\u001b[0m\u001b[0;34m(\u001b[0m\u001b[0;34m*\u001b[0m\u001b[0marray_vals\u001b[0m\u001b[0;34m,\u001b[0m \u001b[0mrun_metadata\u001b[0m\u001b[0;34m=\u001b[0m\u001b[0mself\u001b[0m\u001b[0;34m.\u001b[0m\u001b[0mrun_metadata\u001b[0m\u001b[0;34m)\u001b[0m\u001b[0;34m\u001b[0m\u001b[0;34m\u001b[0m\u001b[0m\n\u001b[1;32m   2674\u001b[0m         \u001b[0;32melse\u001b[0m\u001b[0;34m:\u001b[0m\u001b[0;34m\u001b[0m\u001b[0;34m\u001b[0m\u001b[0m\n\u001b[0;32m-> 2675\u001b[0;31m             \u001b[0mfetched\u001b[0m \u001b[0;34m=\u001b[0m \u001b[0mself\u001b[0m\u001b[0;34m.\u001b[0m\u001b[0m_callable_fn\u001b[0m\u001b[0;34m(\u001b[0m\u001b[0;34m*\u001b[0m\u001b[0marray_vals\u001b[0m\u001b[0;34m)\u001b[0m\u001b[0;34m\u001b[0m\u001b[0;34m\u001b[0m\u001b[0m\n\u001b[0m\u001b[1;32m   2676\u001b[0m         \u001b[0;32mreturn\u001b[0m \u001b[0mfetched\u001b[0m\u001b[0;34m[\u001b[0m\u001b[0;34m:\u001b[0m\u001b[0mlen\u001b[0m\u001b[0;34m(\u001b[0m\u001b[0mself\u001b[0m\u001b[0;34m.\u001b[0m\u001b[0moutputs\u001b[0m\u001b[0;34m)\u001b[0m\u001b[0;34m]\u001b[0m\u001b[0;34m\u001b[0m\u001b[0;34m\u001b[0m\u001b[0m\n\u001b[1;32m   2677\u001b[0m \u001b[0;34m\u001b[0m\u001b[0m\n",
            "\u001b[0;32m/usr/local/lib/python3.6/dist-packages/tensorflow/python/client/session.py\u001b[0m in \u001b[0;36m__call__\u001b[0;34m(self, *args, **kwargs)\u001b[0m\n\u001b[1;32m   1437\u001b[0m           ret = tf_session.TF_SessionRunCallable(\n\u001b[1;32m   1438\u001b[0m               \u001b[0mself\u001b[0m\u001b[0;34m.\u001b[0m\u001b[0m_session\u001b[0m\u001b[0;34m.\u001b[0m\u001b[0m_session\u001b[0m\u001b[0;34m,\u001b[0m \u001b[0mself\u001b[0m\u001b[0;34m.\u001b[0m\u001b[0m_handle\u001b[0m\u001b[0;34m,\u001b[0m \u001b[0margs\u001b[0m\u001b[0;34m,\u001b[0m \u001b[0mstatus\u001b[0m\u001b[0;34m,\u001b[0m\u001b[0;34m\u001b[0m\u001b[0;34m\u001b[0m\u001b[0m\n\u001b[0;32m-> 1439\u001b[0;31m               run_metadata_ptr)\n\u001b[0m\u001b[1;32m   1440\u001b[0m         \u001b[0;32mif\u001b[0m \u001b[0mrun_metadata\u001b[0m\u001b[0;34m:\u001b[0m\u001b[0;34m\u001b[0m\u001b[0;34m\u001b[0m\u001b[0m\n\u001b[1;32m   1441\u001b[0m           \u001b[0mproto_data\u001b[0m \u001b[0;34m=\u001b[0m \u001b[0mtf_session\u001b[0m\u001b[0;34m.\u001b[0m\u001b[0mTF_GetBuffer\u001b[0m\u001b[0;34m(\u001b[0m\u001b[0mrun_metadata_ptr\u001b[0m\u001b[0;34m)\u001b[0m\u001b[0;34m\u001b[0m\u001b[0;34m\u001b[0m\u001b[0m\n",
            "\u001b[0;31mKeyboardInterrupt\u001b[0m: "
          ]
        }
      ]
    },
    {
      "metadata": {
        "id": "H1XEb7Kuddg2",
        "colab_type": "code",
        "colab": {
          "base_uri": "https://localhost:8080/",
          "height": 1106
        },
        "outputId": "d6e29354-390d-4796-b024-7726327c4ad4"
      },
      "cell_type": "code",
      "source": [
        "for i, training in enumerate(training_total):\n",
        "  # plotar loss e accuracy para os datasets 'train' e 'test'\n",
        "  plt.style.use(\"ggplot\")\n",
        "  plt.figure()\n",
        "  plt.plot(training.history['acc'], label='Accuracy')\n",
        "  plt.plot(training.history['loss'], label='Loss')\n",
        "  plt.xlabel('Epochs')\n",
        "  plt.ylabel('Accuracy')\n",
        "  plt.title(\"Training Loss and Accuracy\")\n",
        "  plt.ylabel(\"Loss/Accuracy\")\n",
        "  plt.legend()\n",
        "  plt.savefig('drive/My Drive/Colab Notebooks/MT/Treino-K' + str(i+1) + \n",
        "              '.png', bbox_inches='tight')"
      ],
      "execution_count": 66,
      "outputs": [
        {
          "output_type": "display_data",
          "data": {
            "image/png": "[encoded data removed]",
            "text/plain": [
              "<matplotlib.figure.Figure at 0x7f03f555fcf8>"
            ]
          },
          "metadata": {
            "tags": []
          }
        },
        {
          "output_type": "display_data",
          "data": {
            "image/png": "[encoded data removed]",
            "text/plain": [
              "<matplotlib.figure.Figure at 0x7f03f5448518>"
            ]
          },
          "metadata": {
            "tags": []
          }
        },
        {
          "output_type": "display_data",
          "data": {
            "image/png": "[encoded data removed]",
            "text/plain": [
              "<matplotlib.figure.Figure at 0x7f03f5386198>"
            ]
          },
          "metadata": {
            "tags": []
          }
        }
      ]
    }
  ]
}