{
 "cells": [
  {
   "cell_type": "markdown",
   "metadata": {
    "id": "view-in-github",
    "colab_type": "text"
   },
   "source": [
    "<a href=\"https://colab.research.google.com/github/saulolks/CDSentimentAnalysis-Project/blob/master/cnn.ipynb\" target=\"_parent\"><img src=\"https://colab.research.google.com/assets/colab-badge.svg\" alt=\"Open In Colab\"/></a>"
   ]
  },
  {
   "cell_type": "code",
   "execution_count": 0,
   "metadata": {
    "id": "uE99A6Sn2nMJ",
    "colab_type": "code",
    "colab": {}
   },
   "outputs": [],
   "source": [
    "# Load the Drive helper and mount\n",
    "from google.colab import drive\n",
    "\n",
    "# This will prompt for authorization.\n",
    "drive.mount('/content/drive/')"
   ]
  },
  {
   "cell_type": "markdown",
   "metadata": {
    "id": "GEMnmsPe2nl_",
    "colab_type": "text"
   },
   "source": [
    "\n",
    "\n",
    "---\n",
    "\n"
   ]
  },
  {
   "cell_type": "code",
   "execution_count": 0,
   "metadata": {
    "id": "6Rhy2wrb7Fe3",
    "colab_type": "code",
    "colab": {}
   },
   "outputs": [],
   "source": [
    "import numpy as np\n",
    "\n",
    "from keras.layers import Dense, Input, Flatten, Reshape, concatenate, Dropout\n",
    "from keras.layers import Conv1D, Conv2D, MaxPooling1D, MaxPooling2D, Embedding\n",
    "from keras.layers import LSTM, Bidirectional\n",
    "from keras.models import Model\n",
    "from keras import optimizers\n",
    "from keras import regularizers"
   ]
  },
  {
   "cell_type": "markdown",
   "metadata": {
    "id": "-cLBfgkjDYsX",
    "colab_type": "text"
   },
   "source": [
    "## Modelo Yoon Kim"
   ]
  },
  {
   "cell_type": "markdown",
   "metadata": {
    "id": "P-Gk_f1NwDf7",
    "colab_type": "text"
   },
   "source": [
    "Modelo original de **Yoon Kim** [Convolutional Neural Networks for Sentence Classification](https://arxiv.org/abs/1408.5882)\n",
    "\n",
    "Implementação [Jverma/cnn-text-classification-keras\n",
    "](https://github.com/Jverma/cnn-text-classification-keras)"
   ]
  },
  {
   "cell_type": "markdown",
   "metadata": {
    "id": "YNWh9i9cw6Ia",
    "colab_type": "text"
   },
   "source": [
    "*   **EMBEDDING_DIM**: Dimension of the embedding space.\n",
    "*   **MAX_SEQUENCE_LENGTH:** Maximum length of the sentence.\n",
    "*   **MAX_NB_WORDS:** Maximum number of words in the vocabulary.\n",
    "*   **embeddings_index:** A dict containing words and their embeddings.\n",
    "*   **word_index:** A dict containing words and their indices.\n",
    "*   **labels_index**: A dict containing the labels and their indices.\n",
    "*   **fname**: Path to the file containing Google word2vecs."
   ]
  },
  {
   "cell_type": "code",
   "execution_count": 0,
   "metadata": {
    "id": "H14IvPE4t23i",
    "colab_type": "code",
    "colab": {}
   },
   "outputs": [],
   "source": [
    "MAX_SEQUENCE_LENGTH = 50\n",
    "MAX_NB_WORDS = 10000\n",
    "EMBEDDING_DIM = 300\n",
    "VALIDATION_SPLIT = 0.2\n",
    "fname = 'drive/My Drive/UFRPE/'"
   ]
  },
  {
   "cell_type": "code",
   "execution_count": 0,
   "metadata": {
    "id": "TEysML_W1Wwy",
    "colab_type": "code",
    "colab": {}
   },
   "outputs": [],
   "source": [
    "# implementar word_index\n",
    "num_words = min(MAX_NB_WORDS, len(word_index))"
   ]
  },
  {
   "cell_type": "markdown",
   "metadata": {
    "id": "8CzHu1oZ9qUd",
    "colab_type": "text"
   },
   "source": [
    "### Modelo"
   ]
  },
  {
   "cell_type": "code",
   "execution_count": 0,
   "metadata": {
    "id": "cJoZiCC9DaSH",
    "colab_type": "code",
    "colab": {}
   },
   "outputs": [],
   "source": [
    "embedding_layer = Embedding(num_words,\n",
    "                                EMBEDDING_DIM,\n",
    "                                weights=[embedding_matrix],\n",
    "                                input_length=MAX_SEQUENCE_LENGTH,\n",
    "                                trainable=True)"
   ]
  },
  {
   "cell_type": "code",
   "execution_count": 0,
   "metadata": {
    "id": "C5zBJHBm7Z2v",
    "colab_type": "code",
    "colab": {}
   },
   "outputs": [],
   "source": [
    "sequence_input = Input(shape=(MAX_SEQUENCE_LENGTH,), dtype='int32')\n",
    "embedded_sequences = embedding_layer(sequence_input)\n",
    "\n",
    "# add first conv filter\n",
    "embedded_sequences = Reshape((MAX_SEQUENCE_LENGTH, EMBEDDING_DIM, 1))(embedded_sequences)\n",
    "x = Conv2D(100, (5, EMBEDDING_DIM), activation='relu')(embedded_sequences)\n",
    "x = MaxPooling2D((MAX_SEQUENCE_LENGTH - 5 + 1, 1))(x)\n",
    "\n",
    "\n",
    "# add second conv filter.\n",
    "y = Conv2D(100, (4, EMBEDDING_DIM), activation='relu')(embedded_sequences)\n",
    "y = MaxPooling2D((MAX_SEQUENCE_LENGTH - 4 + 1, 1))(y)\n",
    "\n",
    "\n",
    "# add third conv filter.\n",
    "z = Conv2D(100, (3, EMBEDDING_DIM), activation='relu')(embedded_sequences)\n",
    "z = MaxPooling2D((MAX_SEQUENCE_LENGTH - 3 + 1, 1))(z)\n",
    "\n",
    "\n",
    "# concate the conv layers\n",
    "alpha = concatenate([x,y,z])\n",
    "\n",
    "# flatted the pooled features.\n",
    "alpha = Flatten()(alpha)\n",
    "\n",
    "# dropout\n",
    "alpha = Dropout(0.5)(alpha)\n",
    "\n",
    "# predictions\n",
    "preds = Dense(len(labels_index), activation='softmax')(alpha)\n",
    "\n",
    "# build model\n",
    "model = Model(sequence_input, preds)"
   ]
  },
  {
   "cell_type": "code",
   "execution_count": 0,
   "metadata": {
    "id": "Uvvz4XcL7e_P",
    "colab_type": "code",
    "colab": {}
   },
   "outputs": [],
   "source": [
    "adadelta = optimizers.Adadelta()\n",
    "\n",
    "model.compile(loss='categorical_crossentropy',\n",
    "              optimizer=adadelta,\n",
    "              metrics=['acc'])"
   ]
  },
  {
   "cell_type": "markdown",
   "metadata": {
    "id": "VTYJryj-9jhG",
    "colab_type": "text"
   },
   "source": [
    "### Treinamento"
   ]
  },
  {
   "cell_type": "code",
   "execution_count": 0,
   "metadata": {
    "id": "9kvmD1uf7vYN",
    "colab_type": "code",
    "colab": {}
   },
   "outputs": [],
   "source": [
    "model.fit(x=x_train, y=y_train, batch_size=50, epochs=25 , validation_data=(x_val, y_val))"
   ]
  }
 ],
 "metadata": {
  "colab": {
   "name": "cnn.ipynb",
   "version": "0.3.2",
   "provenance": [],
   "collapsed_sections": [],
   "toc_visible": true,
   "include_colab_link": true
  },
  "kernelspec": {
   "name": "python3",
   "display_name": "Python 3"
  },
  "accelerator": "GPU"
 },
 "nbformat": 4,
 "nbformat_minor": 0
}
